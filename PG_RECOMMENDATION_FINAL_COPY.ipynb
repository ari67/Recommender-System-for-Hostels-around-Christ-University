{
 "cells": [
  {
   "cell_type": "markdown",
   "id": "b2419a81",
   "metadata": {},
   "source": [
    "# PG/HOSTEL RECOMMENDATION"
   ]
  },
  {
   "cell_type": "markdown",
   "id": "b83ee0e3",
   "metadata": {},
   "source": [
    "## 1. IMPORT NECESSARY LIBRARIES AND DATA:"
   ]
  },
  {
   "cell_type": "code",
   "execution_count": 1,
   "id": "4e0e0763",
   "metadata": {},
   "outputs": [],
   "source": [
    "import pandas as pd\n",
    "import numpy as np\n",
    "import seaborn as sns\n",
    "\n",
    "import warnings \n",
    "warnings.filterwarnings('ignore')"
   ]
  },
  {
   "cell_type": "code",
   "execution_count": 2,
   "id": "81101d42",
   "metadata": {},
   "outputs": [
    {
     "data": {
      "text/html": [
       "<div>\n",
       "<style scoped>\n",
       "    .dataframe tbody tr th:only-of-type {\n",
       "        vertical-align: middle;\n",
       "    }\n",
       "\n",
       "    .dataframe tbody tr th {\n",
       "        vertical-align: top;\n",
       "    }\n",
       "\n",
       "    .dataframe thead th {\n",
       "        text-align: right;\n",
       "    }\n",
       "</style>\n",
       "<table border=\"1\" class=\"dataframe\">\n",
       "  <thead>\n",
       "    <tr style=\"text-align: right;\">\n",
       "      <th></th>\n",
       "      <th>Timestamp</th>\n",
       "      <th>Name (Optional)</th>\n",
       "      <th>Age</th>\n",
       "      <th>Gender</th>\n",
       "      <th>Place hailing from</th>\n",
       "      <th>Name of the Hostel</th>\n",
       "      <th>Category</th>\n",
       "      <th>Type</th>\n",
       "      <th>Distance from College:</th>\n",
       "      <th>Location</th>\n",
       "      <th>...</th>\n",
       "      <th>Appliances available</th>\n",
       "      <th>Appliances allowed</th>\n",
       "      <th>Rate the atmosphere around the hostel:</th>\n",
       "      <th>On a scale of 1 to 5, how strict is the hostel/PG</th>\n",
       "      <th>On a scale of 1 to 5, how do you rate the food quality</th>\n",
       "      <th>On a scale of 1 to 5, how do you rate the hostel cleanliness</th>\n",
       "      <th>On a scale of 1 to 5, select the overall rating</th>\n",
       "      <th>Comments/Remarks/Suggestions related to hostel/PG</th>\n",
       "      <th>Does the hostel/PG provide laundry facilities?</th>\n",
       "      <th>Is the room well ventilated</th>\n",
       "    </tr>\n",
       "  </thead>\n",
       "  <tbody>\n",
       "    <tr>\n",
       "      <th>0</th>\n",
       "      <td>01-04-2023 22:25</td>\n",
       "      <td>Shebin</td>\n",
       "      <td>21</td>\n",
       "      <td>Male</td>\n",
       "      <td>Kerala</td>\n",
       "      <td>KE Hall</td>\n",
       "      <td>Boys</td>\n",
       "      <td>Hostels run by Christian missionaries</td>\n",
       "      <td>Less than 500 ms</td>\n",
       "      <td>CHRIST UNIVERSITY</td>\n",
       "      <td>...</td>\n",
       "      <td>Washing machine, Water heater</td>\n",
       "      <td>Iron box, Kettle, Air frier, Induction Cooktop</td>\n",
       "      <td>4</td>\n",
       "      <td>4</td>\n",
       "      <td>3.0</td>\n",
       "      <td>5</td>\n",
       "      <td>5</td>\n",
       "      <td>Library access is very convenient.</td>\n",
       "      <td>Yes</td>\n",
       "      <td>Yes</td>\n",
       "    </tr>\n",
       "    <tr>\n",
       "      <th>1</th>\n",
       "      <td>01-04-2023 22:26</td>\n",
       "      <td>Arya</td>\n",
       "      <td>22</td>\n",
       "      <td>Female</td>\n",
       "      <td>Kerala</td>\n",
       "      <td>Augustine Nivas</td>\n",
       "      <td>Girls</td>\n",
       "      <td>Hostels run by Christian missionaries</td>\n",
       "      <td>500 ms to 1 km</td>\n",
       "      <td>Kaveri Layout</td>\n",
       "      <td>...</td>\n",
       "      <td>Washing machine, Water heater</td>\n",
       "      <td>Iron box, Kettle, Air frier, Hair drier/Straig...</td>\n",
       "      <td>5</td>\n",
       "      <td>3</td>\n",
       "      <td>3.0</td>\n",
       "      <td>4</td>\n",
       "      <td>4</td>\n",
       "      <td>NaN</td>\n",
       "      <td>No</td>\n",
       "      <td>Yes</td>\n",
       "    </tr>\n",
       "    <tr>\n",
       "      <th>2</th>\n",
       "      <td>01-04-2023 22:26</td>\n",
       "      <td>Anandhalakshmi</td>\n",
       "      <td>22</td>\n",
       "      <td>Female</td>\n",
       "      <td>Kerala</td>\n",
       "      <td>Augustine Nivas</td>\n",
       "      <td>Girls</td>\n",
       "      <td>Hostels run by Christian missionaries</td>\n",
       "      <td>500 ms to 1 km</td>\n",
       "      <td>Kaveri layout</td>\n",
       "      <td>...</td>\n",
       "      <td>Washing machine, Water heater</td>\n",
       "      <td>Iron box, Kettle, Air frier, Hair drier/Straig...</td>\n",
       "      <td>5</td>\n",
       "      <td>3</td>\n",
       "      <td>3.0</td>\n",
       "      <td>4</td>\n",
       "      <td>4</td>\n",
       "      <td>NaN</td>\n",
       "      <td>No</td>\n",
       "      <td>Yes</td>\n",
       "    </tr>\n",
       "    <tr>\n",
       "      <th>3</th>\n",
       "      <td>01-04-2023 22:53</td>\n",
       "      <td>Nidin</td>\n",
       "      <td>21</td>\n",
       "      <td>Male</td>\n",
       "      <td>Tamil Nadu</td>\n",
       "      <td>KE Hall</td>\n",
       "      <td>Boys</td>\n",
       "      <td>Normal Hostels</td>\n",
       "      <td>Less than 500 ms</td>\n",
       "      <td>Inside Christ University</td>\n",
       "      <td>...</td>\n",
       "      <td>Washing machine, Induction cooktop, Water heater</td>\n",
       "      <td>Iron box, Kettle</td>\n",
       "      <td>4</td>\n",
       "      <td>4</td>\n",
       "      <td>3.0</td>\n",
       "      <td>4</td>\n",
       "      <td>4</td>\n",
       "      <td>NaN</td>\n",
       "      <td>Yes</td>\n",
       "      <td>Yes</td>\n",
       "    </tr>\n",
       "    <tr>\n",
       "      <th>4</th>\n",
       "      <td>01-04-2023 23:05</td>\n",
       "      <td>Rishav Laloo</td>\n",
       "      <td>23</td>\n",
       "      <td>Male</td>\n",
       "      <td>Meghalaya</td>\n",
       "      <td>KE Hall</td>\n",
       "      <td>Boys</td>\n",
       "      <td>Hostels run by Christian missionaries</td>\n",
       "      <td>Less than 500 ms</td>\n",
       "      <td>Christ University</td>\n",
       "      <td>...</td>\n",
       "      <td>Washing machine, Induction cooktop, Water heater</td>\n",
       "      <td>Iron box, Kettle</td>\n",
       "      <td>3</td>\n",
       "      <td>5</td>\n",
       "      <td>NaN</td>\n",
       "      <td>5</td>\n",
       "      <td>4</td>\n",
       "      <td>NaN</td>\n",
       "      <td>Yes</td>\n",
       "      <td>Yes</td>\n",
       "    </tr>\n",
       "  </tbody>\n",
       "</table>\n",
       "<p>5 rows × 31 columns</p>\n",
       "</div>"
      ],
      "text/plain": [
       "          Timestamp  Name (Optional)  Age  Gender Place hailing from  \\\n",
       "0  01-04-2023 22:25          Shebin    21    Male             Kerala   \n",
       "1  01-04-2023 22:26             Arya   22  Female             Kerala   \n",
       "2  01-04-2023 22:26  Anandhalakshmi    22  Female             Kerala   \n",
       "3  01-04-2023 22:53           Nidin    21    Male         Tamil Nadu   \n",
       "4  01-04-2023 23:05     Rishav Laloo   23    Male          Meghalaya   \n",
       "\n",
       "  Name of the Hostel Category                                   Type  \\\n",
       "0            KE Hall     Boys  Hostels run by Christian missionaries   \n",
       "1    Augustine Nivas    Girls  Hostels run by Christian missionaries   \n",
       "2    Augustine Nivas    Girls  Hostels run by Christian missionaries   \n",
       "3            KE Hall     Boys                         Normal Hostels   \n",
       "4            KE Hall     Boys  Hostels run by Christian missionaries   \n",
       "\n",
       "  Distance from College:                   Location  ...  \\\n",
       "0       Less than 500 ms         CHRIST UNIVERSITY   ...   \n",
       "1         500 ms to 1 km              Kaveri Layout  ...   \n",
       "2         500 ms to 1 km             Kaveri layout   ...   \n",
       "3       Less than 500 ms  Inside Christ University   ...   \n",
       "4       Less than 500 ms          Christ University  ...   \n",
       "\n",
       "                               Appliances available  \\\n",
       "0                     Washing machine, Water heater   \n",
       "1                     Washing machine, Water heater   \n",
       "2                     Washing machine, Water heater   \n",
       "3  Washing machine, Induction cooktop, Water heater   \n",
       "4  Washing machine, Induction cooktop, Water heater   \n",
       "\n",
       "                                  Appliances allowed  \\\n",
       "0     Iron box, Kettle, Air frier, Induction Cooktop   \n",
       "1  Iron box, Kettle, Air frier, Hair drier/Straig...   \n",
       "2  Iron box, Kettle, Air frier, Hair drier/Straig...   \n",
       "3                                   Iron box, Kettle   \n",
       "4                                   Iron box, Kettle   \n",
       "\n",
       "  Rate the atmosphere around the hostel:  \\\n",
       "0                                      4   \n",
       "1                                      5   \n",
       "2                                      5   \n",
       "3                                      4   \n",
       "4                                      3   \n",
       "\n",
       "  On a scale of 1 to 5, how strict is the hostel/PG  \\\n",
       "0                                                 4   \n",
       "1                                                 3   \n",
       "2                                                 3   \n",
       "3                                                 4   \n",
       "4                                                 5   \n",
       "\n",
       "  On a scale of 1 to 5, how do you rate the food quality  \\\n",
       "0                                                3.0       \n",
       "1                                                3.0       \n",
       "2                                                3.0       \n",
       "3                                                3.0       \n",
       "4                                                NaN       \n",
       "\n",
       "  On a scale of 1 to 5, how do you rate the hostel cleanliness  \\\n",
       "0                                                  5             \n",
       "1                                                  4             \n",
       "2                                                  4             \n",
       "3                                                  4             \n",
       "4                                                  5             \n",
       "\n",
       "  On a scale of 1 to 5, select the overall rating  \\\n",
       "0                                               5   \n",
       "1                                               4   \n",
       "2                                               4   \n",
       "3                                               4   \n",
       "4                                               4   \n",
       "\n",
       "  Comments/Remarks/Suggestions related to hostel/PG  \\\n",
       "0                Library access is very convenient.   \n",
       "1                                               NaN   \n",
       "2                                               NaN   \n",
       "3                                               NaN   \n",
       "4                                               NaN   \n",
       "\n",
       "  Does the hostel/PG provide laundry facilities? Is the room well ventilated  \n",
       "0                                            Yes                         Yes  \n",
       "1                                             No                         Yes  \n",
       "2                                             No                         Yes  \n",
       "3                                            Yes                         Yes  \n",
       "4                                            Yes                         Yes  \n",
       "\n",
       "[5 rows x 31 columns]"
      ]
     },
     "execution_count": 2,
     "metadata": {},
     "output_type": "execute_result"
    }
   ],
   "source": [
    "#we need to read \"Nil\",\"NA\",\"none\",\"None\",\"Na\" in data as null value\n",
    "data = pd.read_csv(\"C:\\\\Users\\\\hp\\Downloads\\\\PG RECOMMENDATION SYSTEM (Responses) - Form responses 1 (4).csv\", na_values = [\"Nil\",\"NA\",\"none\",\"None\",\"Na\"])\n",
    "data.head()"
   ]
  },
  {
   "cell_type": "code",
   "execution_count": 3,
   "id": "43fae1be",
   "metadata": {},
   "outputs": [
    {
     "name": "stdout",
     "output_type": "stream",
     "text": [
      "<class 'pandas.core.frame.DataFrame'>\n",
      "RangeIndex: 200 entries, 0 to 199\n",
      "Data columns (total 31 columns):\n",
      " #   Column                                                        Non-Null Count  Dtype  \n",
      "---  ------                                                        --------------  -----  \n",
      " 0   Timestamp                                                     200 non-null    object \n",
      " 1   Name (Optional)                                               119 non-null    object \n",
      " 2   Age                                                           200 non-null    int64  \n",
      " 3   Gender                                                        200 non-null    object \n",
      " 4   Place hailing from                                            200 non-null    object \n",
      " 5   Name of the Hostel                                            199 non-null    object \n",
      " 6   Category                                                      200 non-null    object \n",
      " 7   Type                                                          200 non-null    object \n",
      " 8   Distance from College:                                        200 non-null    object \n",
      " 9   Location                                                      200 non-null    object \n",
      " 10  Does your PG/hostel provide mess facility?                    200 non-null    object \n",
      " 11  If yes, what type of food do they provide?                    163 non-null    object \n",
      " 12  Food type:                                                    170 non-null    object \n",
      " 13  Room Type:                                                    200 non-null    object \n",
      " 14  Fees (Paid monthly or yearly)                                 200 non-null    object \n",
      " 15  Fees per month                                                200 non-null    object \n",
      " 16  Is the room air conditioned (AC)                              200 non-null    object \n",
      " 17  Does the hostel/PG provide gym facilities                     200 non-null    object \n",
      " 18  Is WI-FI available                                            200 non-null    object \n",
      " 19  Is Parking available                                          200 non-null    object \n",
      " 20  Curfew (By what time you have to reach hostel)                200 non-null    object \n",
      " 21  Appliances available                                          200 non-null    object \n",
      " 22  Appliances allowed                                            200 non-null    object \n",
      " 23  Rate the atmosphere around the hostel:                        200 non-null    int64  \n",
      " 24  On a scale of 1 to 5, how strict is the hostel/PG             200 non-null    int64  \n",
      " 25  On a scale of 1 to 5, how do you rate the food quality        179 non-null    float64\n",
      " 26  On a scale of 1 to 5, how do you rate the hostel cleanliness  200 non-null    int64  \n",
      " 27  On a scale of 1 to 5, select the overall rating               200 non-null    int64  \n",
      " 28  Comments/Remarks/Suggestions related to hostel/PG             168 non-null    object \n",
      " 29  Does the hostel/PG provide laundry facilities?                200 non-null    object \n",
      " 30  Is the room well ventilated                                   200 non-null    object \n",
      "dtypes: float64(1), int64(5), object(25)\n",
      "memory usage: 48.6+ KB\n"
     ]
    }
   ],
   "source": [
    "data.info()"
   ]
  },
  {
   "cell_type": "markdown",
   "id": "00e09d6b",
   "metadata": {},
   "source": [
    "## DATA PRE-PROCESSING:"
   ]
  },
  {
   "cell_type": "markdown",
   "id": "b040af7f",
   "metadata": {},
   "source": [
    "##### 1. DELETING UNNECESSARY COLUMNS."
   ]
  },
  {
   "cell_type": "code",
   "execution_count": 4,
   "id": "8fa960a2",
   "metadata": {},
   "outputs": [],
   "source": [
    "data1 = data.drop(['Timestamp','Name (Optional)'], axis=1)"
   ]
  },
  {
   "cell_type": "markdown",
   "id": "acc9b5f3",
   "metadata": {},
   "source": [
    "##### 2. REMOVING NULL VALUES:"
   ]
  },
  {
   "cell_type": "code",
   "execution_count": 5,
   "id": "5fc2d9a5",
   "metadata": {},
   "outputs": [],
   "source": [
    "data1['On a scale of 1 to 5, how do you rate the food quality'].fillna(0, inplace = True)\n",
    "data1['Comments/Remarks/Suggestions related to hostel/PG'].fillna(\"Not Available\", inplace = True)\n",
    "data1['Food type:'].fillna(\"Not Available\", inplace = True)\n",
    "data1['If yes, what type of food do they provide?'].fillna(\"Not Available\", inplace = True)\n",
    "data1['Name of the Hostel'].fillna(\"Not Available\", inplace = True)"
   ]
  },
  {
   "cell_type": "code",
   "execution_count": 6,
   "id": "e424eb91",
   "metadata": {},
   "outputs": [
    {
     "name": "stdout",
     "output_type": "stream",
     "text": [
      "<class 'pandas.core.frame.DataFrame'>\n",
      "RangeIndex: 200 entries, 0 to 199\n",
      "Data columns (total 29 columns):\n",
      " #   Column                                                        Non-Null Count  Dtype  \n",
      "---  ------                                                        --------------  -----  \n",
      " 0   Age                                                           200 non-null    int64  \n",
      " 1   Gender                                                        200 non-null    object \n",
      " 2   Place hailing from                                            200 non-null    object \n",
      " 3   Name of the Hostel                                            200 non-null    object \n",
      " 4   Category                                                      200 non-null    object \n",
      " 5   Type                                                          200 non-null    object \n",
      " 6   Distance from College:                                        200 non-null    object \n",
      " 7   Location                                                      200 non-null    object \n",
      " 8   Does your PG/hostel provide mess facility?                    200 non-null    object \n",
      " 9   If yes, what type of food do they provide?                    200 non-null    object \n",
      " 10  Food type:                                                    200 non-null    object \n",
      " 11  Room Type:                                                    200 non-null    object \n",
      " 12  Fees (Paid monthly or yearly)                                 200 non-null    object \n",
      " 13  Fees per month                                                200 non-null    object \n",
      " 14  Is the room air conditioned (AC)                              200 non-null    object \n",
      " 15  Does the hostel/PG provide gym facilities                     200 non-null    object \n",
      " 16  Is WI-FI available                                            200 non-null    object \n",
      " 17  Is Parking available                                          200 non-null    object \n",
      " 18  Curfew (By what time you have to reach hostel)                200 non-null    object \n",
      " 19  Appliances available                                          200 non-null    object \n",
      " 20  Appliances allowed                                            200 non-null    object \n",
      " 21  Rate the atmosphere around the hostel:                        200 non-null    int64  \n",
      " 22  On a scale of 1 to 5, how strict is the hostel/PG             200 non-null    int64  \n",
      " 23  On a scale of 1 to 5, how do you rate the food quality        200 non-null    float64\n",
      " 24  On a scale of 1 to 5, how do you rate the hostel cleanliness  200 non-null    int64  \n",
      " 25  On a scale of 1 to 5, select the overall rating               200 non-null    int64  \n",
      " 26  Comments/Remarks/Suggestions related to hostel/PG             200 non-null    object \n",
      " 27  Does the hostel/PG provide laundry facilities?                200 non-null    object \n",
      " 28  Is the room well ventilated                                   200 non-null    object \n",
      "dtypes: float64(1), int64(5), object(23)\n",
      "memory usage: 45.4+ KB\n"
     ]
    }
   ],
   "source": [
    "data1.info()"
   ]
  },
  {
   "cell_type": "markdown",
   "id": "311fe9fd",
   "metadata": {},
   "source": [
    "##### 3. CONVERTING OBJECT TYPE TO STRING:"
   ]
  },
  {
   "cell_type": "code",
   "execution_count": 7,
   "id": "b2fd9671",
   "metadata": {},
   "outputs": [
    {
     "name": "stdout",
     "output_type": "stream",
     "text": [
      "<class 'pandas.core.frame.DataFrame'>\n",
      "RangeIndex: 200 entries, 0 to 199\n",
      "Data columns (total 29 columns):\n",
      " #   Column                                                        Non-Null Count  Dtype  \n",
      "---  ------                                                        --------------  -----  \n",
      " 0   Age                                                           200 non-null    int64  \n",
      " 1   Gender                                                        200 non-null    object \n",
      " 2   Place hailing from                                            200 non-null    object \n",
      " 3   Name of the Hostel                                            200 non-null    object \n",
      " 4   Category                                                      200 non-null    object \n",
      " 5   Type                                                          200 non-null    object \n",
      " 6   Distance from College:                                        200 non-null    object \n",
      " 7   Location                                                      200 non-null    object \n",
      " 8   Does your PG/hostel provide mess facility?                    200 non-null    object \n",
      " 9   If yes, what type of food do they provide?                    200 non-null    object \n",
      " 10  Food type:                                                    200 non-null    object \n",
      " 11  Room Type:                                                    200 non-null    object \n",
      " 12  Fees (Paid monthly or yearly)                                 200 non-null    object \n",
      " 13  Fees per month                                                200 non-null    object \n",
      " 14  Is the room air conditioned (AC)                              200 non-null    object \n",
      " 15  Does the hostel/PG provide gym facilities                     200 non-null    object \n",
      " 16  Is WI-FI available                                            200 non-null    object \n",
      " 17  Is Parking available                                          200 non-null    object \n",
      " 18  Curfew (By what time you have to reach hostel)                200 non-null    object \n",
      " 19  Appliances available                                          200 non-null    object \n",
      " 20  Appliances allowed                                            200 non-null    object \n",
      " 21  Rate the atmosphere around the hostel:                        200 non-null    int64  \n",
      " 22  On a scale of 1 to 5, how strict is the hostel/PG             200 non-null    int64  \n",
      " 23  On a scale of 1 to 5, how do you rate the food quality        200 non-null    float64\n",
      " 24  On a scale of 1 to 5, how do you rate the hostel cleanliness  200 non-null    int64  \n",
      " 25  On a scale of 1 to 5, select the overall rating               200 non-null    int64  \n",
      " 26  Comments/Remarks/Suggestions related to hostel/PG             200 non-null    object \n",
      " 27  Does the hostel/PG provide laundry facilities?                200 non-null    object \n",
      " 28  Is the room well ventilated                                   200 non-null    object \n",
      "dtypes: float64(1), int64(5), object(23)\n",
      "memory usage: 45.4+ KB\n"
     ]
    }
   ],
   "source": [
    "# TO CONVERT COLUMNS WITH OBJECT DATATYPE TO STRING DATA TYPE\n",
    "stringcols = data1.select_dtypes(include='object').columns\n",
    "data1[stringcols] = data1[stringcols].fillna('').astype(str)\n",
    "data1.info()"
   ]
  },
  {
   "cell_type": "markdown",
   "id": "e1abfc97",
   "metadata": {},
   "source": [
    "##### 4. REMOVE TRAILING WHITESPACES FROM NAME OF THE HOSTELS COLUMN:"
   ]
  },
  {
   "cell_type": "code",
   "execution_count": 8,
   "id": "c038ec86",
   "metadata": {},
   "outputs": [],
   "source": [
    "# REMOVING TRAILING WHITE SPACES FROM ALL HOSTEL/PG NAMES:\n",
    "\n",
    "data1['Name of the Hostel'] = data1['Name of the Hostel'].apply(str.rstrip)"
   ]
  },
  {
   "cell_type": "markdown",
   "id": "e77aab80",
   "metadata": {},
   "source": [
    "##### 5. CONVERTING ALL HOSTEL NAMES TO LOWER CASE:"
   ]
  },
  {
   "cell_type": "code",
   "execution_count": 9,
   "id": "893c045d",
   "metadata": {},
   "outputs": [],
   "source": [
    "data1['Name of the Hostel'] = data1['Name of the Hostel'].str.lower()"
   ]
  },
  {
   "cell_type": "markdown",
   "id": "0873606f",
   "metadata": {},
   "source": [
    "##### 6. FINDING THE NUMBER OF HOSTELS WHOSE DATA WE HAVE COLLECTED."
   ]
  },
  {
   "cell_type": "code",
   "execution_count": 10,
   "id": "d7d786ed",
   "metadata": {},
   "outputs": [
    {
     "data": {
      "text/plain": [
       "93"
      ]
     },
     "execution_count": 10,
     "metadata": {},
     "output_type": "execute_result"
    }
   ],
   "source": [
    "data1[\"Name of the Hostel\"].nunique()"
   ]
  },
  {
   "cell_type": "markdown",
   "id": "2b309314",
   "metadata": {},
   "source": [
    "##### 7.FINDING UNIQUE HOSTELS"
   ]
  },
  {
   "cell_type": "code",
   "execution_count": 11,
   "id": "a16bab2c",
   "metadata": {},
   "outputs": [
    {
     "data": {
      "text/plain": [
       "array(['ke hall', 'augustine nivas', 'stanza living',\n",
       "       'gayathri luxury pg', 'providence convent', 'besania study house',\n",
       "       'jonas hall', 'not available', 'pelagia hostel',\n",
       "       'sri sai pg for ladies', 'malabar plaza', 'savina bhavan',\n",
       "       'young india pg', 'ankalamma pg for ladies', 'vijalakshmi',\n",
       "       'joseph pg for ladies', 'lakshmi venkateshwara pg', 'joseph’s pg',\n",
       "       'aishwarya sunshine pg', 'sri omkareshwara pg',\n",
       "       'sri lakshmi venkateshwara pg for girls', 'happy homes hostel',\n",
       "       'vaibhava pg', 'caritas study house', 'sannidhana', 'slv pg',\n",
       "       'shree hostel', 'sapthagiri', 'venkateshwara pg', 'serenity',\n",
       "       'besania hostel', 'new sri krishna krupa pg',\n",
       "       'providence covent hostel', 'cst vidhya bhavan', 'snehadan',\n",
       "       'aishwarya pg', 'yuva vikas hostel', 'adler',\n",
       "       'providence convent hostel', 'comfort luxury', 'yuvi',\n",
       "       'prashanti study house', 'svr pg for ladies', 'ankalamma',\n",
       "       'puzzles living', 'slv ladies pg', 'myroomie camellia',\n",
       "       'sri lakshmi venkateshwara', 'svr pg', 'puzzles hope house',\n",
       "       'presidency hostels', 'sri lakshmi venkateshwara pg', 'sri pmr pg',\n",
       "       'yashmitha', 'agustine nivas', 'v r hostels', 'kms  elite',\n",
       "       'sreenevasa laxmi luxury pg', 'sri pmr ladies pg',\n",
       "       'stanza living frankfurt', 'orio living', 'st.marry pg',\n",
       "       'i the ladies pg', \"loyola women's hostel\", 'aira girls pg',\n",
       "       'orion co living', 'venketeshwar ladies pg', 'radhakrushna pg',\n",
       "       'gns cosmo home pg', 'aishwarya sunshine hostel', 'casa',\n",
       "       'lvr living', 'myroomie camillia', 'yashmitha pg', 'zolo maple',\n",
       "       'vaayu hostels', 'nesto amigos', 'gayathri luxury hostel',\n",
       "       'zolo hazel', 'sannidhana girls hostel', 'sannidhana study house',\n",
       "       'sannidhana study house sabs', \"blue bell's\", 'madhavan pg',\n",
       "       'stanza living frankfurt house', 'zolo mapple', 'laza rooming',\n",
       "       'sree sathya', 'om parameswar', 'coliv 579 springfeild',\n",
       "       'nesto stays', 'c comforts', 'nesto charan'], dtype=object)"
      ]
     },
     "execution_count": 11,
     "metadata": {},
     "output_type": "execute_result"
    }
   ],
   "source": [
    "#data['column'] = df['column'].astype('str') \n",
    "data1['Name of the Hostel'].unique()"
   ]
  },
  {
   "cell_type": "markdown",
   "id": "c60d2711",
   "metadata": {},
   "source": [
    "7.since some of them are just the same hostels but written in different formats, convert into a single name."
   ]
  },
  {
   "cell_type": "code",
   "execution_count": 12,
   "id": "756bb051",
   "metadata": {},
   "outputs": [
    {
     "data": {
      "text/plain": [
       "array(['ke hall', 'augustine nivas', 'stanza living',\n",
       "       'gayathri luxury pg', 'providence convent', 'besania study house',\n",
       "       'jonas hall', 'not available', 'pelagia hostel',\n",
       "       'sri sai pg for ladies', 'malabar plaza', 'savina bhavan',\n",
       "       'young india pg', 'ankalamma pg for ladies', 'vijalakshmi',\n",
       "       'joseph pg for ladies', 'sri lakshmi venkateshwara pg for girls',\n",
       "       'aishwarya sunshine pg', 'sri omkareshwara pg',\n",
       "       'happy homes hostel', 'vaibhava pg', 'caritas study house',\n",
       "       'sannidhana study house', 'slv ladies pg', 'shree hostel',\n",
       "       'sapthagiri', 'venkateshwara pg', 'serenity',\n",
       "       'new sri krishna krupa pg', 'cst vidhya bhavan', 'snehadan',\n",
       "       'aishwarya pg', 'yuva vikas hostel', 'adler',\n",
       "       'providence convent hostel', 'comfort luxury', 'yuvi',\n",
       "       'prashanti study house', 'svr pg for ladies', 'puzzles living',\n",
       "       'myroomie camellia', 'svr pg', 'puzzles hope house',\n",
       "       'presidency hostels', 'sri pmr pg', 'yashmitha pg', 'v r hostels',\n",
       "       'kms  elite', 'sreenevasa laxmi luxury pg', 'sri pmr ladies pg',\n",
       "       'stanza living frankfurt house', 'orio living', 'st.marry pg',\n",
       "       'i the ladies pg', \"loyola women's hostel\", 'aira girls pg',\n",
       "       'orion co living', 'venketeshwar ladies pg', 'radhakrushna pg',\n",
       "       'gns cosmo home pg', 'aishwarya sunshine hostel', 'casa',\n",
       "       'lvr living', 'myroomie camillia', 'zolo mapple', 'vaayu hostels',\n",
       "       'nesto amigos', 'gayathri luxury hostel', 'zolo hazel',\n",
       "       \"blue bell's\", 'madhavan pg', 'laza rooming', 'sree sathya',\n",
       "       'om parameswar', 'coliv 579 springfeild', 'nesto stays',\n",
       "       'c comforts', 'nesto charan'], dtype=object)"
      ]
     },
     "execution_count": 12,
     "metadata": {},
     "output_type": "execute_result"
    }
   ],
   "source": [
    "data1['Name of the Hostel'] = data1['Name of the Hostel'].replace('', 'not given')\n",
    "data1['Name of the Hostel'] = data1['Name of the Hostel'].replace('joseph’s pg', 'joseph pg for ladies')\n",
    "data1['Name of the Hostel'] = data1['Name of the Hostel'].replace('sri lakshmi venkateshwara pg', 'sri lakshmi venkateshwara pg for girls')\n",
    "data1['Name of the Hostel'] = data1['Name of the Hostel'].replace('lakshmi venkateshwara pg', 'sri lakshmi venkateshwara pg for girls')\n",
    "data1['Name of the Hostel'] = data1['Name of the Hostel'].replace('sri lakshmi venkateshwara', 'sri lakshmi venkateshwara pg for girls')\n",
    "data1['Name of the Hostel'] = data1['Name of the Hostel'].replace('besania hostel', 'besania study house')\n",
    "data1['Name of the Hostel'] = data1['Name of the Hostel'].replace('providence covent hostel', 'providence convent')\n",
    "data1['Name of the Hostel'] = data1['Name of the Hostel'].replace('ankalamma', 'ankalamma pg for ladies')\n",
    "data1['Name of the Hostel'] = data1['Name of the Hostel'].replace('slv pg', 'slv ladies pg')\n",
    "data1['Name of the Hostel'] = data1['Name of the Hostel'].replace('agustine nivas', 'augustine nivas')\n",
    "data1['Name of the Hostel'] = data1['Name of the Hostel'].replace('yashmitha', 'yashmitha pg')\n",
    "data1['Name of the Hostel'] = data1['Name of the Hostel'].replace(['sannidhana', 'sannidhana girls hostel', 'sannidhana study house sabs'], 'sannidhana study house')\n",
    "data1['Name of the Hostel'] = data1['Name of the Hostel'].replace('zolo maple', 'zolo mapple')\n",
    "data1['Name of the Hostel'] = data1['Name of the Hostel'].replace('stanza living frankfurt', 'stanza living frankfurt house')\n",
    "\n",
    "\n",
    "\n",
    "\n",
    "data1['Name of the Hostel'].unique()"
   ]
  },
  {
   "cell_type": "code",
   "execution_count": 13,
   "id": "dee6673b",
   "metadata": {},
   "outputs": [
    {
     "data": {
      "text/plain": [
       "78"
      ]
     },
     "execution_count": 13,
     "metadata": {},
     "output_type": "execute_result"
    }
   ],
   "source": [
    "data1[\"Name of the Hostel\"].nunique()"
   ]
  },
  {
   "cell_type": "markdown",
   "id": "8854c641",
   "metadata": {},
   "source": [
    "##### 8. ROOM TYPE:"
   ]
  },
  {
   "cell_type": "code",
   "execution_count": 14,
   "id": "4f3d4e87",
   "metadata": {},
   "outputs": [],
   "source": [
    "data1['Room Type:'] = data1['Room Type:'].replace(['2/4/6 Sharing', 'Two sharing special room daaaa!!!!', 'All', \"Single, two sharing and 3 sharing \"], 'Two-Sharing')\n",
    "data1['Room Type:'] = data1['Room Type:'].replace(['Single '], 'Single')"
   ]
  },
  {
   "cell_type": "code",
   "execution_count": 15,
   "id": "f80e294b",
   "metadata": {},
   "outputs": [
    {
     "data": {
      "text/plain": [
       "array(['Three-Sharing', 'Two-Sharing', 'Four-Sharing', 'Single'],\n",
       "      dtype=object)"
      ]
     },
     "execution_count": 15,
     "metadata": {},
     "output_type": "execute_result"
    }
   ],
   "source": [
    "data1['Room Type:'].unique()"
   ]
  },
  {
   "cell_type": "markdown",
   "id": "e7ce556b",
   "metadata": {},
   "source": [
    "In total we have details of 78 hostels"
   ]
  },
  {
   "cell_type": "markdown",
   "id": "4cd13c86",
   "metadata": {},
   "source": [
    "##### 9. DATATYPE OF FEES_PER_MONTH COLUMN:"
   ]
  },
  {
   "cell_type": "code",
   "execution_count": 16,
   "id": "b8d27e34",
   "metadata": {},
   "outputs": [
    {
     "data": {
      "text/plain": [
       "0       4,500\n",
       "1      11,500\n",
       "2        8000\n",
       "3       4,500\n",
       "4        5000\n",
       "        ...  \n",
       "195      9000\n",
       "196     16000\n",
       "197      6000\n",
       "198      6800\n",
       "199      6800\n",
       "Name: Fees per month, Length: 200, dtype: object"
      ]
     },
     "execution_count": 16,
     "metadata": {},
     "output_type": "execute_result"
    }
   ],
   "source": [
    "#CONVERTING TO FLOAT TYPE:\n",
    "\n",
    "data1['Fees per month']"
   ]
  },
  {
   "cell_type": "code",
   "execution_count": 17,
   "id": "a4cb5a75",
   "metadata": {},
   "outputs": [],
   "source": [
    "# SOME HAVE COMMAS AND SOME DOESN'T SO CONVERTING THE FEES COLUMN TO FLOAT VALUES.\n",
    "\n",
    "data1['int_fees per month'] = data1['Fees per month'].astype('str').str.extractall('(\\d+)').unstack().fillna('').sum(axis=1).astype(int)\n",
    "data1['int_fees per month']\n",
    "data1.drop(['Fees per month'], axis = 1, inplace = True)"
   ]
  },
  {
   "cell_type": "markdown",
   "id": "19f98576",
   "metadata": {},
   "source": [
    "##### 10. CREATING A COLUMN CALLED FEES RANGE FOR RECOMMENDATION"
   ]
  },
  {
   "cell_type": "code",
   "execution_count": 18,
   "id": "d2334a48",
   "metadata": {},
   "outputs": [],
   "source": [
    "conditions = [\n",
    "    (data1['int_fees per month'] <= 5000),\n",
    "    (data1['int_fees per month'] > 5000) & (data1['int_fees per month'] <= 8000),\n",
    "    (data1['int_fees per month'] > 8000) & (data1['int_fees per month'] <= 12000),\n",
    "    (data1['int_fees per month'] > 12000)\n",
    "    ]"
   ]
  },
  {
   "cell_type": "code",
   "execution_count": 19,
   "id": "96a5f8b1",
   "metadata": {},
   "outputs": [],
   "source": [
    "values = [\"LESS THAN 5000\", \"BETWEEN 5000 AND 8000\", \"BETWEEN 8000 AND 12000\", \"MORE THAN 12000\"]"
   ]
  },
  {
   "cell_type": "code",
   "execution_count": 20,
   "id": "03a5c317",
   "metadata": {},
   "outputs": [],
   "source": [
    "data1['FEES_RANGE'] = np.select(conditions, values)"
   ]
  },
  {
   "cell_type": "code",
   "execution_count": 21,
   "id": "8fc75c79",
   "metadata": {},
   "outputs": [
    {
     "data": {
      "text/plain": [
       "array(['LESS THAN 5000', 'BETWEEN 8000 AND 12000',\n",
       "       'BETWEEN 5000 AND 8000', 'MORE THAN 12000'], dtype=object)"
      ]
     },
     "execution_count": 21,
     "metadata": {},
     "output_type": "execute_result"
    }
   ],
   "source": [
    "data1['FEES_RANGE'].unique()"
   ]
  },
  {
   "cell_type": "markdown",
   "id": "ee4d16ad",
   "metadata": {},
   "source": [
    "##### 11. FINDING MEAN RATING FOR EACH HOSTEL AND REPLACING IT WITH OVERALL RATING:"
   ]
  },
  {
   "cell_type": "code",
   "execution_count": 22,
   "id": "41ab1609",
   "metadata": {},
   "outputs": [],
   "source": [
    "hostels = list(data1['Name of the Hostel'].unique())\n",
    "data1['Mean Rating'] = 0\n",
    "\n",
    "for i in range(len(hostels)):\n",
    "    data1['Mean Rating'][data1['Name of the Hostel'] == hostels[i]] = data1['On a scale of 1 to 5, select the overall rating'][data1['Name of the Hostel'] == hostels[i]].mean()"
   ]
  },
  {
   "cell_type": "code",
   "execution_count": 23,
   "id": "7a3a5487",
   "metadata": {},
   "outputs": [],
   "source": [
    "hostels = list(data1['Name of the Hostel'].unique())\n",
    "data1['Mean Rating Cleanliness'] = 0\n",
    "\n",
    "for i in range(len(hostels)):\n",
    "    data1['Mean Rating Cleanliness'][data1['Name of the Hostel'] == hostels[i]] = data1['On a scale of 1 to 5, how do you rate the hostel cleanliness'][data1['Name of the Hostel'] == hostels[i]].mean()"
   ]
  },
  {
   "cell_type": "code",
   "execution_count": 24,
   "id": "8454273e",
   "metadata": {},
   "outputs": [],
   "source": [
    "hostels = list(data1['Name of the Hostel'].unique())\n",
    "data1['Mean Rating Strictness'] = 0\n",
    "\n",
    "for i in range(len(hostels)):\n",
    "    data1['Mean Rating Strictness'][data1['Name of the Hostel'] == hostels[i]] = data1['On a scale of 1 to 5, how strict is the hostel/PG'][data1['Name of the Hostel'] == hostels[i]].mean()"
   ]
  },
  {
   "cell_type": "markdown",
   "id": "9f13446f",
   "metadata": {},
   "source": [
    "## EDA AND VISUALIZATION:"
   ]
  },
  {
   "cell_type": "markdown",
   "id": "3f19f9b3",
   "metadata": {},
   "source": [
    "1. DISTRIBUTION OF FEES PER MONTH:"
   ]
  },
  {
   "cell_type": "code",
   "execution_count": 27,
   "id": "a0d406a6",
   "metadata": {},
   "outputs": [
    {
     "data": {
      "text/plain": [
       "<AxesSubplot:xlabel='int_fees per month', ylabel='Count'>"
      ]
     },
     "execution_count": 27,
     "metadata": {},
     "output_type": "execute_result"
    },
    {
     "data": {
      "image/png": "[encoded data removed]",
      "text/plain": [
       "<Figure size 432x288 with 1 Axes>"
      ]
     },
     "metadata": {
      "needs_background": "light"
     },
     "output_type": "display_data"
    }
   ],
   "source": [
    "sns.histplot(data = data1, x = \"int_fees per month\", kde = True)"
   ]
  },
  {
   "cell_type": "markdown",
   "id": "d7acb506",
   "metadata": {},
   "source": [
    "Common fee range is between 7,500 and 10,000"
   ]
  },
  {
   "cell_type": "markdown",
   "id": "ac1a659a",
   "metadata": {},
   "source": [
    "## MODELING : CONTENT BASED FILTERING"
   ]
  },
  {
   "cell_type": "markdown",
   "id": "4b7f990f",
   "metadata": {},
   "source": [
    "### 1. RECOMMENDING BASED ON USER'S  REQUIREMENT:"
   ]
  },
  {
   "cell_type": "markdown",
   "id": "9ea79735",
   "metadata": {},
   "source": [
    "##### 1.1 USING COSINE-SIMILARITY:"
   ]
  },
  {
   "cell_type": "code",
   "execution_count": 25,
   "id": "5ed6fc24",
   "metadata": {},
   "outputs": [
    {
     "name": "stderr",
     "output_type": "stream",
     "text": [
      "[nltk_data] Downloading package wordnet to\n",
      "[nltk_data]     C:\\Users\\hp\\AppData\\Roaming\\nltk_data...\n",
      "[nltk_data]   Package wordnet is already up-to-date!\n",
      "[nltk_data] Downloading package punkt to\n",
      "[nltk_data]     C:\\Users\\hp\\AppData\\Roaming\\nltk_data...\n",
      "[nltk_data]   Package punkt is already up-to-date!\n",
      "[nltk_data] Downloading package stopwords to\n",
      "[nltk_data]     C:\\Users\\hp\\AppData\\Roaming\\nltk_data...\n",
      "[nltk_data]   Package stopwords is already up-to-date!\n",
      "[nltk_data] Downloading package omw-1.4 to\n",
      "[nltk_data]     C:\\Users\\hp\\AppData\\Roaming\\nltk_data...\n",
      "[nltk_data]   Package omw-1.4 is already up-to-date!\n"
     ]
    },
    {
     "data": {
      "text/plain": [
       "True"
      ]
     },
     "execution_count": 25,
     "metadata": {},
     "output_type": "execute_result"
    }
   ],
   "source": [
    "import nltk\n",
    "nltk.download('wordnet')\n",
    "import numpy as np\n",
    "import pandas as pd\n",
    "from nltk.corpus import stopwords\n",
    "from nltk.tokenize import word_tokenize\n",
    "from nltk.stem.wordnet import WordNetLemmatizer\n",
    "from ast import literal_eval\n",
    "\n",
    "import nltk\n",
    "nltk.download('punkt')\n",
    "nltk.download('stopwords')\n",
    "\n",
    "nltk.download('omw-1.4')"
   ]
  },
  {
   "cell_type": "code",
   "execution_count": 26,
   "id": "8f01382a",
   "metadata": {},
   "outputs": [],
   "source": [
    "new_data1 = data1[['Name of the Hostel', 'Category', 'Type', 'Distance from College:', 'Does your PG/hostel provide mess facility?', 'int_fees per month','On a scale of 1 to 5, select the overall rating']]"
   ]
  },
  {
   "cell_type": "markdown",
   "id": "21f68c25",
   "metadata": {},
   "source": [
    "### Creating a description column which contains the feactures of the each hostel. This is used to compare with user's requirements and provide corresponding recommendations"
   ]
  },
  {
   "cell_type": "code",
   "execution_count": 27,
   "id": "fa778991",
   "metadata": {},
   "outputs": [
    {
     "data": {
      "text/plain": [
       "'Girls Hostels run by Christian missionaries 500 ms to 1 km BETWEEN 8000 AND 12000 Two-Sharing'"
      ]
     },
     "execution_count": 27,
     "metadata": {},
     "output_type": "execute_result"
    }
   ],
   "source": [
    "descriptions = data1['Category'] +' '+ data1['Type'] + ' ' + data1['Distance from College:'] + ' '+data1['FEES_RANGE'] + ' ' + data1['Room Type:']\n",
    "#Printing the first description\n",
    "descriptions[1]"
   ]
  },
  {
   "cell_type": "code",
   "execution_count": 28,
   "id": "5623c0cd",
   "metadata": {},
   "outputs": [],
   "source": [
    "data1['descriptions'] = descriptions"
   ]
  },
  {
   "cell_type": "code",
   "execution_count": 29,
   "id": "6335aa0a",
   "metadata": {},
   "outputs": [],
   "source": [
    "def requirementbased(distance,type,features):\n",
    "    data1['Distance from College:']=data1['Distance from College:'].str.lower()\n",
    "    data1['descriptions']=data1['descriptions'].str.lower()\n",
    "    #data1['Category']=data1['Category'].str.lower()\n",
    "    features=features.lower()\n",
    "    features_tokens=word_tokenize(features)  \n",
    "    sw = stopwords.words('english')\n",
    "    lemm = WordNetLemmatizer()\n",
    "    f1_set = {w for w in features_tokens if not w in sw}\n",
    "    f_set=set()\n",
    "    for se in f1_set:\n",
    "        f_set.add(lemm.lemmatize(se))\n",
    "    reqbased=data1[data1['Distance from College:']==distance.lower()]\n",
    "    reqbased=reqbased[reqbased['Category']==type]\n",
    "    reqbased=reqbased.set_index(np.arange(reqbased.shape[0]))\n",
    "    l1 =[];l2 =[];cos=[];\n",
    "  #print(reqbased['roomamenities'])\n",
    "    for i in range(reqbased.shape[0]):\n",
    "        temp_tokens=word_tokenize(reqbased['descriptions'][i])\n",
    "        temp1_set={w for w in temp_tokens if not w in sw}\n",
    "        temp_set=set()\n",
    "        for se in temp1_set:\n",
    "            temp_set.add(lemm.lemmatize(se))\n",
    "        rvector = temp_set.intersection(f_set)\n",
    "      #print(rvector)\n",
    "        cos.append(len(rvector))\n",
    "    reqbased['similarity']=cos\n",
    "    reqbased=reqbased.sort_values(by='similarity',ascending=False)\n",
    "    reqbased.drop_duplicates(subset='Name of the Hostel',keep='first',inplace=True)\n",
    "    \n",
    "\n",
    "    \n",
    "    num_recommendations = reqbased.shape[0]\n",
    "    num_all_items = data1.shape[0]\n",
    "    coverage_score = num_recommendations / num_all_items\n",
    "    \n",
    "    \n",
    "    print(\"THE COVERAGE SCORE: \", coverage_score)\n",
    "    \n",
    "    return reqbased[['Name of the Hostel','Category','Distance from College:', 'Room Type:', 'descriptions']]\n",
    "   "
   ]
  },
  {
   "cell_type": "code",
   "execution_count": 30,
   "id": "445e95a2",
   "metadata": {},
   "outputs": [
    {
     "name": "stdout",
     "output_type": "stream",
     "text": [
      "THE COVERAGE SCORE:  0.165\n"
     ]
    }
   ],
   "source": [
    "req = requirementbased(\"Less than 500 ms\", \"Girls\" ,'I need a Two-Sharing Girls PGs with a budget between 8000 and 12000')"
   ]
  },
  {
   "cell_type": "code",
   "execution_count": 31,
   "id": "dea3d81c",
   "metadata": {},
   "outputs": [
    {
     "data": {
      "text/html": [
       "<div>\n",
       "<style scoped>\n",
       "    .dataframe tbody tr th:only-of-type {\n",
       "        vertical-align: middle;\n",
       "    }\n",
       "\n",
       "    .dataframe tbody tr th {\n",
       "        vertical-align: top;\n",
       "    }\n",
       "\n",
       "    .dataframe thead th {\n",
       "        text-align: right;\n",
       "    }\n",
       "</style>\n",
       "<table border=\"1\" class=\"dataframe\">\n",
       "  <thead>\n",
       "    <tr style=\"text-align: right;\">\n",
       "      <th></th>\n",
       "      <th>Name of the Hostel</th>\n",
       "      <th>Category</th>\n",
       "      <th>Distance from College:</th>\n",
       "    </tr>\n",
       "  </thead>\n",
       "  <tbody>\n",
       "    <tr>\n",
       "      <th>48</th>\n",
       "      <td>aira girls pg</td>\n",
       "      <td>Girls</td>\n",
       "      <td>less than 500 ms</td>\n",
       "    </tr>\n",
       "    <tr>\n",
       "      <th>15</th>\n",
       "      <td>venkateshwara pg</td>\n",
       "      <td>Girls</td>\n",
       "      <td>less than 500 ms</td>\n",
       "    </tr>\n",
       "    <tr>\n",
       "      <th>36</th>\n",
       "      <td>sri pmr pg</td>\n",
       "      <td>Girls</td>\n",
       "      <td>less than 500 ms</td>\n",
       "    </tr>\n",
       "    <tr>\n",
       "      <th>38</th>\n",
       "      <td>v r hostels</td>\n",
       "      <td>Girls</td>\n",
       "      <td>less than 500 ms</td>\n",
       "    </tr>\n",
       "    <tr>\n",
       "      <th>42</th>\n",
       "      <td>sri pmr ladies pg</td>\n",
       "      <td>Girls</td>\n",
       "      <td>less than 500 ms</td>\n",
       "    </tr>\n",
       "  </tbody>\n",
       "</table>\n",
       "</div>"
      ],
      "text/plain": [
       "   Name of the Hostel Category Distance from College:\n",
       "48      aira girls pg    Girls       less than 500 ms\n",
       "15   venkateshwara pg    Girls       less than 500 ms\n",
       "36         sri pmr pg    Girls       less than 500 ms\n",
       "38        v r hostels    Girls       less than 500 ms\n",
       "42  sri pmr ladies pg    Girls       less than 500 ms"
      ]
     },
     "execution_count": 31,
     "metadata": {},
     "output_type": "execute_result"
    }
   ],
   "source": [
    "req[['Name of the Hostel','Category','Distance from College:']].head()"
   ]
  },
  {
   "cell_type": "code",
   "execution_count": 32,
   "id": "6c296f74",
   "metadata": {},
   "outputs": [],
   "source": [
    "recommended_hostels = list(req['Name of the Hostel'])\n",
    "recommended_hostels_desc = list(req['descriptions'])"
   ]
  },
  {
   "cell_type": "code",
   "execution_count": 33,
   "id": "83736eda",
   "metadata": {},
   "outputs": [],
   "source": [
    "from nltk.corpus import stopwords\n",
    "from nltk.tokenize import word_tokenize"
   ]
  },
  {
   "cell_type": "code",
   "execution_count": 34,
   "id": "0f597f8c",
   "metadata": {},
   "outputs": [
    {
     "name": "stdout",
     "output_type": "stream",
     "text": [
      "0.45186329721535556\n"
     ]
    }
   ],
   "source": [
    "num_recommendations = len(req)\n",
    "\n",
    "#num_features = len(recommendations[0])\n",
    "sum_similarities = 0\n",
    "\n",
    "for i in range(num_recommendations):\n",
    "    for j in range(i+1, num_recommendations):\n",
    "        \n",
    "        # tokenization\n",
    "        X_list = word_tokenize(descriptions[i]) \n",
    "        Y_list = word_tokenize(descriptions[j])\n",
    "  \n",
    "        # sw contains the list of stopwords\n",
    "        sw = stopwords.words('english') \n",
    "        l1 =[];l2 =[]\n",
    "  \n",
    "        # remove stop words from the string\n",
    "        X_set = {w for w in X_list if not w in sw} \n",
    "        Y_set = {w for w in Y_list if not w in sw}\n",
    "  \n",
    "        # form a set containing keywords of both strings \n",
    "        rvector = X_set.union(Y_set) \n",
    "        for w in rvector:\n",
    "            if w in X_set: l1.append(1) # create a vector\n",
    "            else: l1.append(0)\n",
    "            if w in Y_set: l2.append(1)\n",
    "            else: l2.append(0)\n",
    "        c = 0\n",
    "        \n",
    "  \n",
    "            # cosine formula \n",
    "        for i in range(len(rvector)):\n",
    "            c+= l1[i]*l2[i]\n",
    "        cosine = c / float((sum(l1)*sum(l2))**0.5)\n",
    "        sum_similarities += cosine\n",
    "        \n",
    "        \n",
    "avg_similarity = sum_similarities / (num_recommendations * (num_recommendations - 1) / 2)\n",
    "diversity = 1 - avg_similarity\n",
    "print(diversity)"
   ]
  },
  {
   "cell_type": "markdown",
   "id": "11c25d3d",
   "metadata": {},
   "source": [
    "## HYBRID : DEMOGRAPHICS + CONTENT BASED"
   ]
  },
  {
   "cell_type": "markdown",
   "id": "0881a58b",
   "metadata": {},
   "source": [
    "This code is an example of a hybrid recommendation system because it combines two different recommendation approaches: demographic-based filtering and content-based filtering.\n",
    "\n",
    "Demographic-based filtering is a technique that recommends items to users based on their demographic information, such as  gender, and place hailing from. In the code, we extract the demographic variables from the dataset and preprocess them.\n",
    "\n",
    "Content-based filtering, on the other hand, recommends items to users based on the similarity of their attributes with the attributes of items they have previously liked. In the code, we extract the content-based variables (amenities and description) from the dataset, preprocess them, and calculate the pairwise cosine similarity between hostels based on these variables.\n",
    "\n",
    "This means that the recommendations take into account both the demographic information of the user and the content-based similarity of the hostels.\n",
    "\n",
    "By using a hybrid approach, we can potentially improve the accuracy of the recommendations by leveraging multiple sources of information."
   ]
  },
  {
   "cell_type": "code",
   "execution_count": 35,
   "id": "2aa870a7",
   "metadata": {},
   "outputs": [
    {
     "data": {
      "text/html": [
       "<div>\n",
       "<style scoped>\n",
       "    .dataframe tbody tr th:only-of-type {\n",
       "        vertical-align: middle;\n",
       "    }\n",
       "\n",
       "    .dataframe tbody tr th {\n",
       "        vertical-align: top;\n",
       "    }\n",
       "\n",
       "    .dataframe thead th {\n",
       "        text-align: right;\n",
       "    }\n",
       "</style>\n",
       "<table border=\"1\" class=\"dataframe\">\n",
       "  <thead>\n",
       "    <tr style=\"text-align: right;\">\n",
       "      <th></th>\n",
       "      <th>Name of the Hostel</th>\n",
       "      <th>int_fees per month</th>\n",
       "      <th>Distance from College:</th>\n",
       "      <th>Room Type:</th>\n",
       "    </tr>\n",
       "  </thead>\n",
       "  <tbody>\n",
       "    <tr>\n",
       "      <th>171</th>\n",
       "      <td>aishwarya pg</td>\n",
       "      <td>10400</td>\n",
       "      <td>more than 1 km</td>\n",
       "      <td>Two-Sharing</td>\n",
       "    </tr>\n",
       "    <tr>\n",
       "      <th>185</th>\n",
       "      <td>blue bell's</td>\n",
       "      <td>10500</td>\n",
       "      <td>more than 1 km</td>\n",
       "      <td>Two-Sharing</td>\n",
       "    </tr>\n",
       "    <tr>\n",
       "      <th>177</th>\n",
       "      <td>aishwarya pg</td>\n",
       "      <td>10400</td>\n",
       "      <td>more than 1 km</td>\n",
       "      <td>Two-Sharing</td>\n",
       "    </tr>\n",
       "    <tr>\n",
       "      <th>54</th>\n",
       "      <td>new sri krishna krupa pg</td>\n",
       "      <td>10000</td>\n",
       "      <td>less than 500 ms</td>\n",
       "      <td>Two-Sharing</td>\n",
       "    </tr>\n",
       "    <tr>\n",
       "      <th>25</th>\n",
       "      <td>joseph pg for ladies</td>\n",
       "      <td>8500</td>\n",
       "      <td>less than 500 ms</td>\n",
       "      <td>Three-Sharing</td>\n",
       "    </tr>\n",
       "  </tbody>\n",
       "</table>\n",
       "</div>"
      ],
      "text/plain": [
       "           Name of the Hostel  int_fees per month Distance from College:  \\\n",
       "171              aishwarya pg               10400         more than 1 km   \n",
       "185               blue bell's               10500         more than 1 km   \n",
       "177              aishwarya pg               10400         more than 1 km   \n",
       "54   new sri krishna krupa pg               10000       less than 500 ms   \n",
       "25       joseph pg for ladies                8500       less than 500 ms   \n",
       "\n",
       "        Room Type:  \n",
       "171    Two-Sharing  \n",
       "185    Two-Sharing  \n",
       "177    Two-Sharing  \n",
       "54     Two-Sharing  \n",
       "25   Three-Sharing  "
      ]
     },
     "execution_count": 35,
     "metadata": {},
     "output_type": "execute_result"
    }
   ],
   "source": [
    "import pandas as pd\n",
    "from sklearn.feature_extraction.text import CountVectorizer\n",
    "from sklearn.metrics.pairwise import cosine_similarity\n",
    "\n",
    "# Load the hostel dataset\n",
    "hostels = data1\n",
    "\n",
    "# Define the user's demographic profile\n",
    "\n",
    "gender = 'Female'\n",
    "place = 'Kerala'\n",
    "\n",
    "# Filter hostels based on demographic preferences\n",
    "filtered_hostels = hostels[\n",
    "                           (hostels['Gender'] == gender) &\n",
    "                           (hostels['Place hailing from'] == place)]\n",
    "# Extract the features from the hostel descriptions\n",
    "vectorizer = CountVectorizer(stop_words='english')\n",
    "features = vectorizer.fit_transform(filtered_hostels['descriptions']).toarray()\n",
    "\n",
    "# Compute the cosine similarity between the features and the user's preferences\n",
    "user_preferences = [\"I need PGs with fees between 8000 and 12000\"]\n",
    "user_vector = vectorizer.transform(user_preferences).toarray()\n",
    "similarities = cosine_similarity(features, user_vector)\n",
    "\n",
    "# Rank the hostels based on similarity score\n",
    "ranked_hostels = filtered_hostels.copy()\n",
    "ranked_hostels['similarity'] = similarities[:, 0]\n",
    "ranked_hostels.sort_values('similarity', ascending=False, inplace=True)\n",
    "\n",
    "dataframe = pd.DataFrame(ranked_hostels)\n",
    "\n",
    "# Print the top 5 recommended hostels\n",
    "dataframe[['Name of the Hostel', 'int_fees per month', 'Distance from College:', 'Room Type:']].head(5)"
   ]
  },
  {
   "cell_type": "code",
   "execution_count": 38,
   "id": "a70e6777",
   "metadata": {},
   "outputs": [
    {
     "name": "stdout",
     "output_type": "stream",
     "text": [
      "THE COVERAGE SCORE:  0.275\n",
      "DIVERSITY SCORE IS:  0.48600428770400006\n"
     ]
    }
   ],
   "source": [
    "num_recommendations = dataframe.shape[0]\n",
    "num_all_items = data1.shape[0]\n",
    "coverage_score = num_recommendations / num_all_items\n",
    "    \n",
    "    \n",
    "print(\"THE COVERAGE SCORE: \", coverage_score)\n",
    "\n",
    "\n",
    "\n",
    "\n",
    "\n",
    "\n",
    "num_recommendations = len(dataframe)\n",
    "\n",
    "#num_features = len(recommendations[0])\n",
    "sum_similarities = 0\n",
    "\n",
    "descriptions = list(dataframe['descriptions'])\n",
    "\n",
    "for i in range(num_recommendations):\n",
    "    for j in range(i+1, num_recommendations):\n",
    "        \n",
    "        # tokenization\n",
    "        X_list = word_tokenize(descriptions[i]) \n",
    "        Y_list = word_tokenize(descriptions[j])\n",
    "  \n",
    "        # sw contains the list of stopwords\n",
    "        sw = stopwords.words('english') \n",
    "        l1 =[];l2 =[]\n",
    "  \n",
    "        # remove stop words from the string\n",
    "        X_set = {w for w in X_list if not w in sw} \n",
    "        Y_set = {w for w in Y_list if not w in sw}\n",
    "  \n",
    "        # form a set containing keywords of both strings \n",
    "        rvector = X_set.union(Y_set) \n",
    "        for w in rvector:\n",
    "            if w in X_set: l1.append(1) # create a vector\n",
    "            else: l1.append(0)\n",
    "            if w in Y_set: l2.append(1)\n",
    "            else: l2.append(0)\n",
    "        c = 0\n",
    "        \n",
    "  \n",
    "            # cosine formula \n",
    "        for i in range(len(rvector)):\n",
    "            c+= l1[i]*l2[i]\n",
    "        cosine = c / float((sum(l1)*sum(l2))**0.5)\n",
    "        sum_similarities += cosine\n",
    "        \n",
    "        \n",
    "avg_similarity = sum_similarities / (num_recommendations * (num_recommendations - 1) / 2)\n",
    "diversity = 1 - avg_similarity\n",
    "print(\"DIVERSITY SCORE IS: \", diversity)"
   ]
  },
  {
   "cell_type": "markdown",
   "id": "1b047273",
   "metadata": {},
   "source": [
    "### 1.2 BY USING MEAN RATING"
   ]
  },
  {
   "cell_type": "code",
   "execution_count": 39,
   "id": "107e006e",
   "metadata": {},
   "outputs": [],
   "source": [
    "def descriptionbased(desc):\n",
    "    desc = desc.lower()\n",
    "    data1['Distance from College:']=data1['Distance from College:'].str.lower()\n",
    "    data1['descriptions'] = data1['descriptions'].str.lower()\n",
    "    descriptionbase=data1[data1['descriptions']== desc]\n",
    "    descriptionbase=descriptionbase.sort_values(by='Mean Rating',ascending=False)\n",
    "    descriptionbase.drop_duplicates(subset='Name of the Hostel',keep='first',inplace=True)\n",
    "    if(descriptionbase.empty ==0):\n",
    "        hname=descriptionbase[['Name of the Hostel','Mean Rating','Distance from College:', 'descriptions']]\n",
    "        return hname.head()\n",
    "    else:\n",
    "        print('No Hostels Available')"
   ]
  },
  {
   "cell_type": "code",
   "execution_count": 40,
   "id": "cf779b5f",
   "metadata": {},
   "outputs": [
    {
     "name": "stdout",
     "output_type": "stream",
     "text": [
      "Top hostels\n"
     ]
    },
    {
     "data": {
      "text/html": [
       "<div>\n",
       "<style scoped>\n",
       "    .dataframe tbody tr th:only-of-type {\n",
       "        vertical-align: middle;\n",
       "    }\n",
       "\n",
       "    .dataframe tbody tr th {\n",
       "        vertical-align: top;\n",
       "    }\n",
       "\n",
       "    .dataframe thead th {\n",
       "        text-align: right;\n",
       "    }\n",
       "</style>\n",
       "<table border=\"1\" class=\"dataframe\">\n",
       "  <thead>\n",
       "    <tr style=\"text-align: right;\">\n",
       "      <th></th>\n",
       "      <th>Name of the Hostel</th>\n",
       "      <th>Mean Rating</th>\n",
       "      <th>Distance from College:</th>\n",
       "      <th>descriptions</th>\n",
       "    </tr>\n",
       "  </thead>\n",
       "  <tbody>\n",
       "    <tr>\n",
       "      <th>1</th>\n",
       "      <td>augustine nivas</td>\n",
       "      <td>3.791667</td>\n",
       "      <td>500 ms to 1 km</td>\n",
       "      <td>girls hostels run by christian missionaries 50...</td>\n",
       "    </tr>\n",
       "    <tr>\n",
       "      <th>178</th>\n",
       "      <td>sannidhana study house</td>\n",
       "      <td>3.400000</td>\n",
       "      <td>500 ms to 1 km</td>\n",
       "      <td>girls hostels run by christian missionaries 50...</td>\n",
       "    </tr>\n",
       "  </tbody>\n",
       "</table>\n",
       "</div>"
      ],
      "text/plain": [
       "         Name of the Hostel  Mean Rating Distance from College:  \\\n",
       "1           augustine nivas     3.791667         500 ms to 1 km   \n",
       "178  sannidhana study house     3.400000         500 ms to 1 km   \n",
       "\n",
       "                                          descriptions  \n",
       "1    girls hostels run by christian missionaries 50...  \n",
       "178  girls hostels run by christian missionaries 50...  "
      ]
     },
     "execution_count": 40,
     "metadata": {},
     "output_type": "execute_result"
    }
   ],
   "source": [
    "print('Top hostels')\n",
    "descriptionbased('Girls Hostels run by Christian missionaries 500 ms to 1 km BETWEEN 8000 AND 12000 Two-Sharing')"
   ]
  },
  {
   "cell_type": "markdown",
   "id": "a34877c3",
   "metadata": {},
   "source": [
    "## 2. RECOMMENDING HOSTELS SIMILAR TO OTHER HOSTELS"
   ]
  },
  {
   "cell_type": "code",
   "execution_count": 41,
   "id": "272ffa74",
   "metadata": {},
   "outputs": [],
   "source": [
    "# BASED ON DISTANCE:\n",
    "from sklearn.feature_extraction.text import CountVectorizer\n",
    "cvect = CountVectorizer(max_features = 5000, stop_words = 'english')\n",
    "vectors = cvect.fit_transform(data1['Distance from College:']).toarray()"
   ]
  },
  {
   "cell_type": "code",
   "execution_count": 42,
   "id": "a04863cf",
   "metadata": {},
   "outputs": [],
   "source": [
    "from sklearn.metrics.pairwise import cosine_similarity\n",
    "similarity = cosine_similarity(vectors)"
   ]
  },
  {
   "cell_type": "code",
   "execution_count": 43,
   "id": "b93604c7",
   "metadata": {},
   "outputs": [],
   "source": [
    "def recommend(hostel):\n",
    "    \n",
    "    hostel_index = data1[data1['Name of the Hostel'] == hostel].index[0]\n",
    "    distances = similarity[hostel_index]\n",
    "    hostel_list = sorted(list(enumerate(distances)), reverse = True, key = lambda x:x[1])[1:6]\n",
    "    for i in hostel_list:\n",
    "        print(data1['Name of the Hostel'].iloc[i[0]])"
   ]
  },
  {
   "cell_type": "code",
   "execution_count": 44,
   "id": "25604818",
   "metadata": {},
   "outputs": [
    {
     "name": "stdout",
     "output_type": "stream",
     "text": [
      "augustine nivas\n",
      "gayathri luxury pg\n",
      "stanza living\n",
      "sri sai pg for ladies\n",
      "ankalamma pg for ladies\n"
     ]
    }
   ],
   "source": [
    "recommend('augustine nivas')"
   ]
  },
  {
   "cell_type": "code",
   "execution_count": 45,
   "id": "e9ef8de9",
   "metadata": {},
   "outputs": [],
   "source": [
    "# BASED ON COMMENTS BY THE USERS FOR FEMALES:\n",
    "\n",
    "data2 = (data['Comments/Remarks/Suggestions related to hostel/PG']).dropna()\n",
    "data2 = data[data['Gender'] == \"Female\"]"
   ]
  },
  {
   "cell_type": "code",
   "execution_count": 46,
   "id": "39ede382",
   "metadata": {},
   "outputs": [],
   "source": [
    "from sklearn.feature_extraction.text import CountVectorizer\n",
    "cvect = CountVectorizer(max_features = 5000, stop_words = 'english')\n",
    "vectors = cvect.fit_transform(data2).toarray()"
   ]
  },
  {
   "cell_type": "code",
   "execution_count": 47,
   "id": "d57830ad",
   "metadata": {},
   "outputs": [],
   "source": [
    "from sklearn.metrics.pairwise import cosine_similarity\n",
    "similarity = cosine_similarity(vectors)"
   ]
  },
  {
   "cell_type": "code",
   "execution_count": 48,
   "id": "81f91f41",
   "metadata": {},
   "outputs": [],
   "source": [
    "def recommend(hostel):\n",
    "    \n",
    "    hostel_index = data1[data1['Name of the Hostel'] == hostel].index[0]\n",
    "    distances = similarity[hostel_index]\n",
    "    movies_list = sorted(list(enumerate(distances)), reverse = True, key = lambda x:x[1])[1:6]\n",
    "    for i in movies_list:\n",
    "        print(data2['Name of the Hostel'].iloc[i[0]])"
   ]
  },
  {
   "cell_type": "code",
   "execution_count": 49,
   "id": "de38239a",
   "metadata": {},
   "outputs": [
    {
     "name": "stdout",
     "output_type": "stream",
     "text": [
      "Augustine Nivas\n",
      "Stanza living\n",
      "Gayathri Luxury pg \n",
      "Providence Convent \n",
      "Besania study house\n"
     ]
    }
   ],
   "source": [
    "recommend('augustine nivas')"
   ]
  },
  {
   "cell_type": "code",
   "execution_count": null,
   "id": "e403bbad",
   "metadata": {},
   "outputs": [],
   "source": []
  }
 ],
 "metadata": {
  "kernelspec": {
   "display_name": "Python 3 (ipykernel)",
   "language": "python",
   "name": "python3"
  },
  "language_info": {
   "codemirror_mode": {
    "name": "ipython",
    "version": 3
   },
   "file_extension": ".py",
   "mimetype": "text/x-python",
   "name": "python",
   "nbconvert_exporter": "python",
   "pygments_lexer": "ipython3",
   "version": "3.9.12"
  }
 },
 "nbformat": 4,
 "nbformat_minor": 5
}
